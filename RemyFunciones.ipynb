{
  "nbformat": 4,
  "nbformat_minor": 0,
  "metadata": {
    "colab": {
      "name": "RemyFunciones.ipynb",
      "provenance": [],
      "collapsed_sections": []
    },
    "kernelspec": {
      "name": "python3",
      "display_name": "Python 3"
    },
    "language_info": {
      "name": "python"
    }
  },
  "cells": [
    {
      "cell_type": "code",
      "metadata": {
        "colab": {
          "base_uri": "https://localhost:8080/"
        },
        "id": "cVuOfkEcXF-L",
        "outputId": "6cfdb810-5a5e-49da-bd62-9aeb107811d7"
      },
      "source": [
        "# Funcion Factorial, usando recursividad\n",
        "def factorial(n):\n",
        "  if n == 1:\n",
        "    return 1\n",
        "  else:\n",
        "    return factorial(n-1)*n\n",
        "\n",
        "print(factorial(6))"
      ],
      "execution_count": null,
      "outputs": [
        {
          "output_type": "stream",
          "name": "stdout",
          "text": [
            "720\n"
          ]
        }
      ]
    },
    {
      "cell_type": "code",
      "metadata": {
        "colab": {
          "base_uri": "https://localhost:8080/"
        },
        "id": "66BsggS_Xff3",
        "outputId": "334cd6de-fde8-4cca-e428-c8a87e198483"
      },
      "source": [
        "# Funcion Factorial, usando for\n",
        "def factorial(n):\n",
        "  fact = 1\n",
        "  for i in range(1,n+1):\n",
        "    fact *= i\n",
        "  return fact\n",
        "\n",
        "factorial(6)\n",
        "\n",
        "# Funcion Suma\n",
        "def sumatoria(i,j):\n",
        "  suma = 0\n",
        "  for k in range(i,j+1):\n",
        "    suma += k\n",
        "  return suma\n",
        "\n",
        "sumatoria(1,100)\n",
        "\n"
      ],
      "execution_count": null,
      "outputs": [
        {
          "output_type": "execute_result",
          "data": {
            "text/plain": [
              "5050"
            ]
          },
          "metadata": {},
          "execution_count": 10
        }
      ]
    },
    {
      "cell_type": "code",
      "metadata": {
        "id": "nAKllL9taGXM"
      },
      "source": [
        ""
      ],
      "execution_count": null,
      "outputs": []
    }
  ]
}