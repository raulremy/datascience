{
 "cells": [
  {
   "cell_type": "code",
   "execution_count": null,
   "metadata": {
    "colab": {
     "base_uri": "https://localhost:8080/"
    },
    "id": "cVuOfkEcXF-L",
    "outputId": "03a74752-54e1-492a-a32e-7e5356cbf7be"
   },
   "outputs": [
    {
     "name": "stdout",
     "output_type": "stream",
     "text": [
      "Ingrese un numero para calcular su factorial: 7\n",
      "5040\n"
     ]
    }
   ],
   "source": [
    "# Funcion Factorial, usando recursividad\n",
    "def factorial(n):\n",
    "  if n == 1:\n",
    "    return 1\n",
    "  else:\n",
    "    return factorial(n-1)*n\n",
    "\n",
    "numero = int(input(\"Ingrese un numero para calcular su factorial: \"))\n",
    "print(factorial(numero))"
   ]
  },
  {
   "cell_type": "code",
   "execution_count": 2,
   "metadata": {
    "id": "nAKllL9taGXM"
   },
   "outputs": [
    {
     "name": "stdout",
     "output_type": "stream",
     "text": [
      "Ingrese un numero para calcular su factorial: 5\n",
      "120\n"
     ]
    }
   ],
   "source": [
    "# Funcion Factorial, usando iteracion\n",
    "def factorial(n):\n",
    "  fact = 1\n",
    "  for i in range(1,n+1):\n",
    "    fact *= i\n",
    "    \n",
    "  return fact\n",
    "\n",
    "numero = int(input(\"Ingrese un numero para calcular su factorial: \"))\n",
    "print(factorial(numero))"
   ]
  },
  {
   "cell_type": "code",
   "execution_count": 5,
   "metadata": {
    "colab": {
     "base_uri": "https://localhost:8080/"
    },
    "id": "4d5bR3U-6liX",
    "outputId": "5baaf928-3416-45d8-98dc-8c0fb7394fd5"
   },
   "outputs": [
    {
     "name": "stdout",
     "output_type": "stream",
     "text": [
      "Ingrese el limite inferior de la suma: 10\n",
      "Ingrese el limite superior de la suma: 15\n",
      "75\n"
     ]
    }
   ],
   "source": [
    "# Funcion Suma\n",
    "def sumatoria(i,j):\n",
    "  suma = 0\n",
    "  for k in range(i,j+1):\n",
    "    suma += k\n",
    "  return suma\n",
    "\n",
    "limite_inferior = int(input(\"Ingrese el limite inferior de la suma: \"))\n",
    "limite_superior = int(input(\"Ingrese el limite superior de la suma: \"))\n",
    "if limite_inferior >= limite_superior:\n",
    "  print(\"El limite inferior supera al limite superior\")\n",
    "else:\n",
    "  print(sumatoria(limite_inferior,limite_superior))"
   ]
  },
  {
   "cell_type": "code",
   "execution_count": null,
   "metadata": {
    "id": "OmbDR1-M6lwF"
   },
   "outputs": [],
   "source": []
  }
 ],
 "metadata": {
  "colab": {
   "collapsed_sections": [],
   "name": "RemyFunciones.ipynb",
   "provenance": []
  },
  "kernelspec": {
   "display_name": "Python 3",
   "language": "python",
   "name": "python3"
  },
  "language_info": {
   "codemirror_mode": {
    "name": "ipython",
    "version": 3
   },
   "file_extension": ".py",
   "mimetype": "text/x-python",
   "name": "python",
   "nbconvert_exporter": "python",
   "pygments_lexer": "ipython3",
   "version": "3.8.8"
  }
 },
 "nbformat": 4,
 "nbformat_minor": 1
}
