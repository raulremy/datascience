{
  "nbformat": 4,
  "nbformat_minor": 0,
  "metadata": {
    "colab": {
      "name": "RemyFunciones.ipynb",
      "provenance": [],
      "collapsed_sections": []
    },
    "kernelspec": {
      "name": "python3",
      "display_name": "Python 3"
    },
    "language_info": {
      "name": "python"
    }
  },
  "cells": [
    {
      "cell_type": "code",
      "metadata": {
        "colab": {
          "base_uri": "https://localhost:8080/"
        },
        "id": "cVuOfkEcXF-L",
        "outputId": "03a74752-54e1-492a-a32e-7e5356cbf7be"
      },
      "source": [
        "# Funcion Factorial, usando recursividad\n",
        "def factorial(n):\n",
        "  if n == 1:\n",
        "    return 1\n",
        "  else:\n",
        "    return factorial(n-1)*n\n",
        "\n",
        "numero = int(input(\"Ingrese un numero para calcular su factorial: \"))\n",
        "print(factorial(numero))"
      ],
      "execution_count": null,
      "outputs": [
        {
          "output_type": "stream",
          "name": "stdout",
          "text": [
            "Ingrese un numero para calcular su factorial: 7\n",
            "5040\n"
          ]
        }
      ]
    },
    {
      "cell_type": "code",
      "metadata": {
        "id": "nAKllL9taGXM"
      },
      "source": [
        "# Funcion Factorial, usando iteracion\n",
        "def factorial(n):\n",
        "  for i in range(1,n+1):\n",
        "    \n",
        "  return factorial(n-1)*n\n",
        "\n",
        "numero = int(input(\"Ingrese un numero para calcular su factorial: \"))\n",
        "print(factorial(numero))"
      ],
      "execution_count": null,
      "outputs": []
    },
    {
      "cell_type": "code",
      "metadata": {
        "id": "4d5bR3U-6liX",
        "colab": {
          "base_uri": "https://localhost:8080/"
        },
        "outputId": "5baaf928-3416-45d8-98dc-8c0fb7394fd5"
      },
      "source": [
        "# Funcion Suma\n",
        "def sumatoria(i,j):\n",
        "  suma = 0\n",
        "  for k in range(i,j+1):\n",
        "    suma += k\n",
        "  return suma\n",
        "\n",
        "limite_inferior = int(input(\"Ingrese el limite inferior de la suma: \"))\n",
        "limite_superior = int(input(\"Ingrese el limite superior de la suma: \"))\n",
        "if limite_inferior >= limite_superior:\n",
        "  print(\"El limite inferior supera al limite superior\")\n",
        "else:\n",
        "  print(sumatoria(limite_inferior,limite_superior))"
      ],
      "execution_count": 5,
      "outputs": [
        {
          "output_type": "stream",
          "name": "stdout",
          "text": [
            "Ingrese el limite inferior de la suma: 10\n",
            "Ingrese el limite superior de la suma: 15\n",
            "75\n"
          ]
        }
      ]
    },
    {
      "cell_type": "code",
      "metadata": {
        "id": "OmbDR1-M6lwF"
      },
      "source": [
        ""
      ],
      "execution_count": null,
      "outputs": []
    }
  ]
}